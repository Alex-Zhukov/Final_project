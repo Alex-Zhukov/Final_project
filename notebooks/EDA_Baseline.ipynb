{
 "cells": [
  {
   "cell_type": "markdown",
   "id": "f133a5b5",
   "metadata": {},
   "source": [
    "### Меню <a id='start'></a>\n",
    "- [Анализ распределения целевой переменной](#target)\n",
    "- [Анализ распределения признаков](#features)\n",
    "- [Baseline](#baseline)\n"
   ]
  },
  {
   "cell_type": "code",
   "execution_count": 1,
   "id": "0f7cc116",
   "metadata": {},
   "outputs": [],
   "source": [
    "import pandas as pd\n",
    "import numpy as np\n",
    "import matplotlib as mpl\n",
    "import matplotlib.pyplot as plt\n",
    "import seaborn as sns\n",
    "from sklearn.model_selection import train_test_split\n",
    "from sklearn.linear_model import LogisticRegression\n",
    "from sklearn.model_selection import KFold,cross_validate\n",
    "from sklearn.metrics import classification_report, plot_confusion_matrix, precision_recall_curve, roc_curve, auc\n",
    "\n",
    "from sklearn.impute import SimpleImputer\n",
    "from sklearn.pipeline import Pipeline\n",
    "from sklearn.preprocessing import StandardScaler, OneHotEncoder, MinMaxScaler\n",
    "from sklearn.feature_selection import SelectFromModel\n",
    "from sklearn.decomposition import PCA\n",
    "\n",
    "from imblearn.over_sampling import SMOTE\n",
    "from imblearn.pipeline import Pipeline as imb_Pipeline"
   ]
  },
  {
   "cell_type": "code",
   "execution_count": 2,
   "id": "2edbda3f",
   "metadata": {},
   "outputs": [],
   "source": [
    "TRAIN_PATH = 'data/train.csv'\n",
    "TEST_PATH = 'data/test.csv'\n",
    "RANDOM_STATE = 111"
   ]
  },
  {
   "cell_type": "code",
   "execution_count": 3,
   "id": "4f2d1a2f",
   "metadata": {},
   "outputs": [],
   "source": [
    "# df_test = pd.read_csv(TEST_PATH, index_col=0)\n",
    "# print(\"train.shape = {} rows, {} cols\".format(*df_test.shape))"
   ]
  },
  {
   "cell_type": "code",
   "execution_count": 4,
   "id": "92c879e1",
   "metadata": {},
   "outputs": [],
   "source": [
    "# df_test"
   ]
  },
  {
   "cell_type": "code",
   "execution_count": 5,
   "id": "006c4194",
   "metadata": {},
   "outputs": [
    {
     "name": "stdout",
     "output_type": "stream",
     "text": [
      "train.shape = 831653 rows, 257 cols\n"
     ]
    }
   ],
   "source": [
    "df_train = pd.read_csv(TRAIN_PATH, index_col=0)\n",
    "print(\"train.shape = {} rows, {} cols\".format(*df_train.shape))"
   ]
  },
  {
   "cell_type": "code",
   "execution_count": 6,
   "id": "df6530bb",
   "metadata": {},
   "outputs": [
    {
     "data": {
      "text/html": [
       "<div>\n",
       "<style scoped>\n",
       "    .dataframe tbody tr th:only-of-type {\n",
       "        vertical-align: middle;\n",
       "    }\n",
       "\n",
       "    .dataframe tbody tr th {\n",
       "        vertical-align: top;\n",
       "    }\n",
       "\n",
       "    .dataframe thead th {\n",
       "        text-align: right;\n",
       "    }\n",
       "</style>\n",
       "<table border=\"1\" class=\"dataframe\">\n",
       "  <thead>\n",
       "    <tr style=\"text-align: right;\">\n",
       "      <th></th>\n",
       "      <th>id</th>\n",
       "      <th>vas_id</th>\n",
       "      <th>buy_time</th>\n",
       "      <th>target</th>\n",
       "      <th>0</th>\n",
       "      <th>1</th>\n",
       "      <th>2</th>\n",
       "      <th>3</th>\n",
       "      <th>4</th>\n",
       "      <th>5</th>\n",
       "      <th>...</th>\n",
       "      <th>243</th>\n",
       "      <th>244</th>\n",
       "      <th>245</th>\n",
       "      <th>246</th>\n",
       "      <th>247</th>\n",
       "      <th>248</th>\n",
       "      <th>249</th>\n",
       "      <th>250</th>\n",
       "      <th>251</th>\n",
       "      <th>252</th>\n",
       "    </tr>\n",
       "  </thead>\n",
       "  <tbody>\n",
       "    <tr>\n",
       "      <th>0</th>\n",
       "      <td>540968</td>\n",
       "      <td>8.0</td>\n",
       "      <td>1537131600</td>\n",
       "      <td>0.0</td>\n",
       "      <td>-31.559971</td>\n",
       "      <td>327.360888</td>\n",
       "      <td>-45.500786</td>\n",
       "      <td>274.753202</td>\n",
       "      <td>-50.918246</td>\n",
       "      <td>253.64821</td>\n",
       "      <td>...</td>\n",
       "      <td>-845.373846</td>\n",
       "      <td>-613.770792</td>\n",
       "      <td>-20.996269</td>\n",
       "      <td>-37.630448</td>\n",
       "      <td>-28.747724</td>\n",
       "      <td>4.167111</td>\n",
       "      <td>7.305572</td>\n",
       "      <td>-12.175933</td>\n",
       "      <td>21.54386</td>\n",
       "      <td>0.0</td>\n",
       "    </tr>\n",
       "    <tr>\n",
       "      <th>1</th>\n",
       "      <td>1454121</td>\n",
       "      <td>4.0</td>\n",
       "      <td>1531688400</td>\n",
       "      <td>0.0</td>\n",
       "      <td>547.270029</td>\n",
       "      <td>238.430888</td>\n",
       "      <td>533.329214</td>\n",
       "      <td>274.803202</td>\n",
       "      <td>527.911754</td>\n",
       "      <td>253.69821</td>\n",
       "      <td>...</td>\n",
       "      <td>-972.373846</td>\n",
       "      <td>-613.770792</td>\n",
       "      <td>-25.996269</td>\n",
       "      <td>-19.630448</td>\n",
       "      <td>-278.747724</td>\n",
       "      <td>-24.832889</td>\n",
       "      <td>-0.694428</td>\n",
       "      <td>-11.175933</td>\n",
       "      <td>-0.45614</td>\n",
       "      <td>0.0</td>\n",
       "    </tr>\n",
       "    <tr>\n",
       "      <th>2</th>\n",
       "      <td>2458816</td>\n",
       "      <td>1.0</td>\n",
       "      <td>1534107600</td>\n",
       "      <td>0.0</td>\n",
       "      <td>-92.139971</td>\n",
       "      <td>-95.469112</td>\n",
       "      <td>-106.080786</td>\n",
       "      <td>-139.596798</td>\n",
       "      <td>-111.498246</td>\n",
       "      <td>-142.90179</td>\n",
       "      <td>...</td>\n",
       "      <td>-977.373846</td>\n",
       "      <td>-613.770792</td>\n",
       "      <td>-25.996269</td>\n",
       "      <td>-37.630448</td>\n",
       "      <td>-304.747724</td>\n",
       "      <td>-25.832889</td>\n",
       "      <td>-0.694428</td>\n",
       "      <td>-12.175933</td>\n",
       "      <td>-0.45614</td>\n",
       "      <td>0.0</td>\n",
       "    </tr>\n",
       "    <tr>\n",
       "      <th>3</th>\n",
       "      <td>3535012</td>\n",
       "      <td>5.0</td>\n",
       "      <td>1535922000</td>\n",
       "      <td>0.0</td>\n",
       "      <td>54.880029</td>\n",
       "      <td>12.970888</td>\n",
       "      <td>54.079214</td>\n",
       "      <td>-9.116798</td>\n",
       "      <td>48.661754</td>\n",
       "      <td>-30.22179</td>\n",
       "      <td>...</td>\n",
       "      <td>-977.373846</td>\n",
       "      <td>-613.770792</td>\n",
       "      <td>-25.996269</td>\n",
       "      <td>-18.630448</td>\n",
       "      <td>-133.747724</td>\n",
       "      <td>-14.832889</td>\n",
       "      <td>-0.694428</td>\n",
       "      <td>-1.175933</td>\n",
       "      <td>-0.45614</td>\n",
       "      <td>0.0</td>\n",
       "    </tr>\n",
       "    <tr>\n",
       "      <th>4</th>\n",
       "      <td>1693214</td>\n",
       "      <td>1.0</td>\n",
       "      <td>1535922000</td>\n",
       "      <td>0.0</td>\n",
       "      <td>45.160029</td>\n",
       "      <td>295.240888</td>\n",
       "      <td>64.679214</td>\n",
       "      <td>344.283202</td>\n",
       "      <td>59.261754</td>\n",
       "      <td>323.17821</td>\n",
       "      <td>...</td>\n",
       "      <td>-965.373846</td>\n",
       "      <td>-612.770792</td>\n",
       "      <td>-22.996269</td>\n",
       "      <td>-32.630448</td>\n",
       "      <td>-127.747724</td>\n",
       "      <td>-4.832889</td>\n",
       "      <td>-0.694428</td>\n",
       "      <td>-12.175933</td>\n",
       "      <td>-0.45614</td>\n",
       "      <td>0.0</td>\n",
       "    </tr>\n",
       "  </tbody>\n",
       "</table>\n",
       "<p>5 rows × 257 columns</p>\n",
       "</div>"
      ],
      "text/plain": [
       "        id  vas_id    buy_time  target           0           1           2  \\\n",
       "0   540968     8.0  1537131600     0.0  -31.559971  327.360888  -45.500786   \n",
       "1  1454121     4.0  1531688400     0.0  547.270029  238.430888  533.329214   \n",
       "2  2458816     1.0  1534107600     0.0  -92.139971  -95.469112 -106.080786   \n",
       "3  3535012     5.0  1535922000     0.0   54.880029   12.970888   54.079214   \n",
       "4  1693214     1.0  1535922000     0.0   45.160029  295.240888   64.679214   \n",
       "\n",
       "            3           4          5  ...         243         244        245  \\\n",
       "0  274.753202  -50.918246  253.64821  ... -845.373846 -613.770792 -20.996269   \n",
       "1  274.803202  527.911754  253.69821  ... -972.373846 -613.770792 -25.996269   \n",
       "2 -139.596798 -111.498246 -142.90179  ... -977.373846 -613.770792 -25.996269   \n",
       "3   -9.116798   48.661754  -30.22179  ... -977.373846 -613.770792 -25.996269   \n",
       "4  344.283202   59.261754  323.17821  ... -965.373846 -612.770792 -22.996269   \n",
       "\n",
       "         246         247        248       249        250       251  252  \n",
       "0 -37.630448  -28.747724   4.167111  7.305572 -12.175933  21.54386  0.0  \n",
       "1 -19.630448 -278.747724 -24.832889 -0.694428 -11.175933  -0.45614  0.0  \n",
       "2 -37.630448 -304.747724 -25.832889 -0.694428 -12.175933  -0.45614  0.0  \n",
       "3 -18.630448 -133.747724 -14.832889 -0.694428  -1.175933  -0.45614  0.0  \n",
       "4 -32.630448 -127.747724  -4.832889 -0.694428 -12.175933  -0.45614  0.0  \n",
       "\n",
       "[5 rows x 257 columns]"
      ]
     },
     "execution_count": 6,
     "metadata": {},
     "output_type": "execute_result"
    }
   ],
   "source": [
    "df_train.head()"
   ]
  },
  {
   "cell_type": "code",
   "execution_count": 7,
   "id": "672165c7",
   "metadata": {},
   "outputs": [],
   "source": [
    "X = df_train.drop('target', axis=1)\n",
    "y = df_train['target']"
   ]
  },
  {
   "cell_type": "code",
   "execution_count": 8,
   "id": "562040aa",
   "metadata": {},
   "outputs": [],
   "source": [
    "del df_train"
   ]
  },
  {
   "cell_type": "code",
   "execution_count": 9,
   "id": "89edebb5",
   "metadata": {},
   "outputs": [
    {
     "name": "stdout",
     "output_type": "stream",
     "text": [
      "Количество пропущенных значений: 0\n"
     ]
    }
   ],
   "source": [
    "print(f'Количество пропущенных значений: {X.isnull().sum().sum()}')"
   ]
  },
  {
   "cell_type": "markdown",
   "id": "4fe151e5",
   "metadata": {},
   "source": [
    "## Анализ распределения целевой переменной <a id='target'></a>\n",
    "[В начало](#start)"
   ]
  },
  {
   "cell_type": "code",
   "execution_count": 10,
   "id": "dca50b0d",
   "metadata": {},
   "outputs": [
    {
     "name": "stdout",
     "output_type": "stream",
     "text": [
      "Количественное соотношение:\n"
     ]
    },
    {
     "data": {
      "text/plain": [
       "0.0    771467\n",
       "1.0     60186\n",
       "Name: target, dtype: int64"
      ]
     },
     "execution_count": 10,
     "metadata": {},
     "output_type": "execute_result"
    }
   ],
   "source": [
    "print('Количественное соотношение:')\n",
    "y.value_counts()"
   ]
  },
  {
   "cell_type": "code",
   "execution_count": 11,
   "id": "ea776a41",
   "metadata": {},
   "outputs": [
    {
     "name": "stdout",
     "output_type": "stream",
     "text": [
      "Процентное соотношение:\n"
     ]
    },
    {
     "data": {
      "text/plain": [
       "0.0    0.927631\n",
       "1.0    0.072369\n",
       "Name: target, dtype: float64"
      ]
     },
     "execution_count": 11,
     "metadata": {},
     "output_type": "execute_result"
    },
    {
     "data": {
      "image/png": "[encoded data removed]",
      "text/plain": [
       "<Figure size 432x288 with 1 Axes>"
      ]
     },
     "metadata": {
      "needs_background": "light"
     },
     "output_type": "display_data"
    }
   ],
   "source": [
    "(y.value_counts()/y.shape[0]).plot(kind='bar', title='Распределение целевой переменной');\n",
    "print('Процентное соотношение:')\n",
    "y.value_counts()/y.shape"
   ]
  },
  {
   "cell_type": "markdown",
   "id": "4b1464bb",
   "metadata": {},
   "source": [
    "## Анализ распределения признаков <a id='features'></a>\n",
    "[В начало](#start)"
   ]
  },
  {
   "cell_type": "code",
   "execution_count": 12,
   "id": "d077567f",
   "metadata": {},
   "outputs": [],
   "source": [
    "X_nunique = X.apply(lambda x: x.nunique(dropna=False))"
   ]
  },
  {
   "cell_type": "code",
   "execution_count": 13,
   "id": "8dc7d877",
   "metadata": {},
   "outputs": [
    {
     "data": {
      "image/png": "[encoded data removed]",
      "text/plain": [
       "<Figure size 720x360 with 1 Axes>"
      ]
     },
     "metadata": {
      "needs_background": "light"
     },
     "output_type": "display_data"
    }
   ],
   "source": [
    "plt.title(\"Распределение уникальных значений признаков\");\n",
    "X_nunique.hist(bins=100, figsize=(10, 5));"
   ]
  },
  {
   "cell_type": "code",
   "execution_count": 14,
   "id": "428d2ec2",
   "metadata": {},
   "outputs": [
    {
     "data": {
      "text/html": [
       "<div>\n",
       "<style scoped>\n",
       "    .dataframe tbody tr th:only-of-type {\n",
       "        vertical-align: middle;\n",
       "    }\n",
       "\n",
       "    .dataframe tbody tr th {\n",
       "        vertical-align: top;\n",
       "    }\n",
       "\n",
       "    .dataframe thead th {\n",
       "        text-align: right;\n",
       "    }\n",
       "</style>\n",
       "<table border=\"1\" class=\"dataframe\">\n",
       "  <thead>\n",
       "    <tr style=\"text-align: right;\">\n",
       "      <th></th>\n",
       "      <th>id</th>\n",
       "      <th>vas_id</th>\n",
       "      <th>buy_time</th>\n",
       "      <th>0</th>\n",
       "      <th>1</th>\n",
       "      <th>2</th>\n",
       "      <th>3</th>\n",
       "      <th>4</th>\n",
       "      <th>5</th>\n",
       "      <th>6</th>\n",
       "      <th>...</th>\n",
       "      <th>243</th>\n",
       "      <th>244</th>\n",
       "      <th>245</th>\n",
       "      <th>246</th>\n",
       "      <th>247</th>\n",
       "      <th>248</th>\n",
       "      <th>249</th>\n",
       "      <th>250</th>\n",
       "      <th>251</th>\n",
       "      <th>252</th>\n",
       "    </tr>\n",
       "  </thead>\n",
       "  <tbody>\n",
       "    <tr>\n",
       "      <th>0</th>\n",
       "      <td>540968</td>\n",
       "      <td>8.0</td>\n",
       "      <td>1537131600</td>\n",
       "      <td>-31.559971</td>\n",
       "      <td>327.360888</td>\n",
       "      <td>-45.500786</td>\n",
       "      <td>274.753202</td>\n",
       "      <td>-50.918246</td>\n",
       "      <td>253.64821</td>\n",
       "      <td>49.15382</td>\n",
       "      <td>...</td>\n",
       "      <td>-845.373846</td>\n",
       "      <td>-613.770792</td>\n",
       "      <td>-20.996269</td>\n",
       "      <td>-37.630448</td>\n",
       "      <td>-28.747724</td>\n",
       "      <td>4.167111</td>\n",
       "      <td>7.305572</td>\n",
       "      <td>-12.175933</td>\n",
       "      <td>21.54386</td>\n",
       "      <td>0.0</td>\n",
       "    </tr>\n",
       "    <tr>\n",
       "      <th>1</th>\n",
       "      <td>1454121</td>\n",
       "      <td>4.0</td>\n",
       "      <td>1531688400</td>\n",
       "      <td>547.270029</td>\n",
       "      <td>238.430888</td>\n",
       "      <td>533.329214</td>\n",
       "      <td>274.803202</td>\n",
       "      <td>527.911754</td>\n",
       "      <td>253.69821</td>\n",
       "      <td>-16.08618</td>\n",
       "      <td>...</td>\n",
       "      <td>-972.373846</td>\n",
       "      <td>-613.770792</td>\n",
       "      <td>-25.996269</td>\n",
       "      <td>-19.630448</td>\n",
       "      <td>-278.747724</td>\n",
       "      <td>-24.832889</td>\n",
       "      <td>-0.694428</td>\n",
       "      <td>-11.175933</td>\n",
       "      <td>-0.45614</td>\n",
       "      <td>0.0</td>\n",
       "    </tr>\n",
       "    <tr>\n",
       "      <th>2</th>\n",
       "      <td>2458816</td>\n",
       "      <td>1.0</td>\n",
       "      <td>1534107600</td>\n",
       "      <td>-92.139971</td>\n",
       "      <td>-95.469112</td>\n",
       "      <td>-106.080786</td>\n",
       "      <td>-139.596798</td>\n",
       "      <td>-111.498246</td>\n",
       "      <td>-142.90179</td>\n",
       "      <td>-16.08618</td>\n",
       "      <td>...</td>\n",
       "      <td>-977.373846</td>\n",
       "      <td>-613.770792</td>\n",
       "      <td>-25.996269</td>\n",
       "      <td>-37.630448</td>\n",
       "      <td>-304.747724</td>\n",
       "      <td>-25.832889</td>\n",
       "      <td>-0.694428</td>\n",
       "      <td>-12.175933</td>\n",
       "      <td>-0.45614</td>\n",
       "      <td>0.0</td>\n",
       "    </tr>\n",
       "    <tr>\n",
       "      <th>3</th>\n",
       "      <td>3535012</td>\n",
       "      <td>5.0</td>\n",
       "      <td>1535922000</td>\n",
       "      <td>54.880029</td>\n",
       "      <td>12.970888</td>\n",
       "      <td>54.079214</td>\n",
       "      <td>-9.116798</td>\n",
       "      <td>48.661754</td>\n",
       "      <td>-30.22179</td>\n",
       "      <td>60.17382</td>\n",
       "      <td>...</td>\n",
       "      <td>-977.373846</td>\n",
       "      <td>-613.770792</td>\n",
       "      <td>-25.996269</td>\n",
       "      <td>-18.630448</td>\n",
       "      <td>-133.747724</td>\n",
       "      <td>-14.832889</td>\n",
       "      <td>-0.694428</td>\n",
       "      <td>-1.175933</td>\n",
       "      <td>-0.45614</td>\n",
       "      <td>0.0</td>\n",
       "    </tr>\n",
       "    <tr>\n",
       "      <th>4</th>\n",
       "      <td>1693214</td>\n",
       "      <td>1.0</td>\n",
       "      <td>1535922000</td>\n",
       "      <td>45.160029</td>\n",
       "      <td>295.240888</td>\n",
       "      <td>64.679214</td>\n",
       "      <td>344.283202</td>\n",
       "      <td>59.261754</td>\n",
       "      <td>323.17821</td>\n",
       "      <td>-16.08618</td>\n",
       "      <td>...</td>\n",
       "      <td>-965.373846</td>\n",
       "      <td>-612.770792</td>\n",
       "      <td>-22.996269</td>\n",
       "      <td>-32.630448</td>\n",
       "      <td>-127.747724</td>\n",
       "      <td>-4.832889</td>\n",
       "      <td>-0.694428</td>\n",
       "      <td>-12.175933</td>\n",
       "      <td>-0.45614</td>\n",
       "      <td>0.0</td>\n",
       "    </tr>\n",
       "  </tbody>\n",
       "</table>\n",
       "<p>5 rows × 256 columns</p>\n",
       "</div>"
      ],
      "text/plain": [
       "        id  vas_id    buy_time           0           1           2  \\\n",
       "0   540968     8.0  1537131600  -31.559971  327.360888  -45.500786   \n",
       "1  1454121     4.0  1531688400  547.270029  238.430888  533.329214   \n",
       "2  2458816     1.0  1534107600  -92.139971  -95.469112 -106.080786   \n",
       "3  3535012     5.0  1535922000   54.880029   12.970888   54.079214   \n",
       "4  1693214     1.0  1535922000   45.160029  295.240888   64.679214   \n",
       "\n",
       "            3           4          5         6  ...         243         244  \\\n",
       "0  274.753202  -50.918246  253.64821  49.15382  ... -845.373846 -613.770792   \n",
       "1  274.803202  527.911754  253.69821 -16.08618  ... -972.373846 -613.770792   \n",
       "2 -139.596798 -111.498246 -142.90179 -16.08618  ... -977.373846 -613.770792   \n",
       "3   -9.116798   48.661754  -30.22179  60.17382  ... -977.373846 -613.770792   \n",
       "4  344.283202   59.261754  323.17821 -16.08618  ... -965.373846 -612.770792   \n",
       "\n",
       "         245        246         247        248       249        250       251  \\\n",
       "0 -20.996269 -37.630448  -28.747724   4.167111  7.305572 -12.175933  21.54386   \n",
       "1 -25.996269 -19.630448 -278.747724 -24.832889 -0.694428 -11.175933  -0.45614   \n",
       "2 -25.996269 -37.630448 -304.747724 -25.832889 -0.694428 -12.175933  -0.45614   \n",
       "3 -25.996269 -18.630448 -133.747724 -14.832889 -0.694428  -1.175933  -0.45614   \n",
       "4 -22.996269 -32.630448 -127.747724  -4.832889 -0.694428 -12.175933  -0.45614   \n",
       "\n",
       "   252  \n",
       "0  0.0  \n",
       "1  0.0  \n",
       "2  0.0  \n",
       "3  0.0  \n",
       "4  0.0  \n",
       "\n",
       "[5 rows x 256 columns]"
      ]
     },
     "execution_count": 14,
     "metadata": {},
     "output_type": "execute_result"
    }
   ],
   "source": [
    "X.head()"
   ]
  },
  {
   "cell_type": "code",
   "execution_count": 15,
   "id": "7f7e0921",
   "metadata": {},
   "outputs": [
    {
     "name": "stdout",
     "output_type": "stream",
     "text": [
      "Количество признаков: 256\n"
     ]
    }
   ],
   "source": [
    "f_all = set(X_nunique.index.tolist())\n",
    "print(f'Количество признаков: {len(f_all)}')"
   ]
  },
  {
   "cell_type": "code",
   "execution_count": 16,
   "id": "23fc356c",
   "metadata": {},
   "outputs": [
    {
     "name": "stdout",
     "output_type": "stream",
     "text": [
      "Количество константных признаков: 5\n"
     ]
    }
   ],
   "source": [
    "f_const = set(X_nunique[X_nunique == 1].index.tolist())\n",
    "print(f'Количество константных признаков: {len(f_const)}')"
   ]
  },
  {
   "cell_type": "code",
   "execution_count": 17,
   "id": "c16dbed9",
   "metadata": {},
   "outputs": [
    {
     "name": "stdout",
     "output_type": "stream",
     "text": [
      "Количество числовых признаков: 247\n"
     ]
    }
   ],
   "source": [
    "f_numeric = (X.fillna(0).astype(int).sum() - X.fillna(0).sum()).abs()\n",
    "f_numeric = set(f_numeric[f_numeric > 0].index.tolist())\n",
    "print(f'Количество числовых признаков: {len(f_numeric)}')"
   ]
  },
  {
   "cell_type": "code",
   "execution_count": 18,
   "id": "a0a6b188",
   "metadata": {},
   "outputs": [
    {
     "name": "stdout",
     "output_type": "stream",
     "text": [
      "Количество Бинарных признаков: 0\n"
     ]
    }
   ],
   "source": [
    "f_binary = set(X.loc[:, f_numeric].columns[(\n",
    "                      (X.loc[:, f_numeric].max() == 1) & \\\n",
    "                      (X.loc[:, f_numeric].min() == 0) & \\\n",
    "                      (X.loc[:, f_numeric].isnull().sum() == 0))])\n",
    "print(f'Количество Бинарных признаков: {len(f_binary)}')\n"
   ]
  },
  {
   "cell_type": "code",
   "execution_count": 19,
   "id": "ed1be1ad",
   "metadata": {},
   "outputs": [
    {
     "name": "stdout",
     "output_type": "stream",
     "text": [
      "Количество остальных признаков: 4\n"
     ]
    }
   ],
   "source": [
    "f_other = f_all - (f_numeric | f_const)\n",
    "print(f'Количество остальных признаков: {len(f_other)}')"
   ]
  },
  {
   "cell_type": "code",
   "execution_count": 20,
   "id": "e56f7020",
   "metadata": {},
   "outputs": [
    {
     "data": {
      "text/html": [
       "<div>\n",
       "<style scoped>\n",
       "    .dataframe tbody tr th:only-of-type {\n",
       "        vertical-align: middle;\n",
       "    }\n",
       "\n",
       "    .dataframe tbody tr th {\n",
       "        vertical-align: top;\n",
       "    }\n",
       "\n",
       "    .dataframe thead th {\n",
       "        text-align: right;\n",
       "    }\n",
       "</style>\n",
       "<table border=\"1\" class=\"dataframe\">\n",
       "  <thead>\n",
       "    <tr style=\"text-align: right;\">\n",
       "      <th></th>\n",
       "      <th>buy_time</th>\n",
       "      <th>id</th>\n",
       "      <th>vas_id</th>\n",
       "      <th>252</th>\n",
       "    </tr>\n",
       "  </thead>\n",
       "  <tbody>\n",
       "    <tr>\n",
       "      <th>0</th>\n",
       "      <td>1537131600</td>\n",
       "      <td>540968</td>\n",
       "      <td>8.0</td>\n",
       "      <td>0.0</td>\n",
       "    </tr>\n",
       "    <tr>\n",
       "      <th>1</th>\n",
       "      <td>1531688400</td>\n",
       "      <td>1454121</td>\n",
       "      <td>4.0</td>\n",
       "      <td>0.0</td>\n",
       "    </tr>\n",
       "    <tr>\n",
       "      <th>2</th>\n",
       "      <td>1534107600</td>\n",
       "      <td>2458816</td>\n",
       "      <td>1.0</td>\n",
       "      <td>0.0</td>\n",
       "    </tr>\n",
       "    <tr>\n",
       "      <th>3</th>\n",
       "      <td>1535922000</td>\n",
       "      <td>3535012</td>\n",
       "      <td>5.0</td>\n",
       "      <td>0.0</td>\n",
       "    </tr>\n",
       "    <tr>\n",
       "      <th>4</th>\n",
       "      <td>1535922000</td>\n",
       "      <td>1693214</td>\n",
       "      <td>1.0</td>\n",
       "      <td>0.0</td>\n",
       "    </tr>\n",
       "    <tr>\n",
       "      <th>...</th>\n",
       "      <td>...</td>\n",
       "      <td>...</td>\n",
       "      <td>...</td>\n",
       "      <td>...</td>\n",
       "    </tr>\n",
       "    <tr>\n",
       "      <th>860047</th>\n",
       "      <td>1546203600</td>\n",
       "      <td>3812226</td>\n",
       "      <td>2.0</td>\n",
       "      <td>0.0</td>\n",
       "    </tr>\n",
       "    <tr>\n",
       "      <th>860048</th>\n",
       "      <td>1546203600</td>\n",
       "      <td>2480469</td>\n",
       "      <td>2.0</td>\n",
       "      <td>0.0</td>\n",
       "    </tr>\n",
       "    <tr>\n",
       "      <th>860049</th>\n",
       "      <td>1546203600</td>\n",
       "      <td>158236</td>\n",
       "      <td>2.0</td>\n",
       "      <td>0.0</td>\n",
       "    </tr>\n",
       "    <tr>\n",
       "      <th>860050</th>\n",
       "      <td>1546203600</td>\n",
       "      <td>1825525</td>\n",
       "      <td>2.0</td>\n",
       "      <td>1.0</td>\n",
       "    </tr>\n",
       "    <tr>\n",
       "      <th>860051</th>\n",
       "      <td>1546203600</td>\n",
       "      <td>3022610</td>\n",
       "      <td>2.0</td>\n",
       "      <td>0.0</td>\n",
       "    </tr>\n",
       "  </tbody>\n",
       "</table>\n",
       "<p>831653 rows × 4 columns</p>\n",
       "</div>"
      ],
      "text/plain": [
       "          buy_time       id  vas_id  252\n",
       "0       1537131600   540968     8.0  0.0\n",
       "1       1531688400  1454121     4.0  0.0\n",
       "2       1534107600  2458816     1.0  0.0\n",
       "3       1535922000  3535012     5.0  0.0\n",
       "4       1535922000  1693214     1.0  0.0\n",
       "...            ...      ...     ...  ...\n",
       "860047  1546203600  3812226     2.0  0.0\n",
       "860048  1546203600  2480469     2.0  0.0\n",
       "860049  1546203600   158236     2.0  0.0\n",
       "860050  1546203600  1825525     2.0  1.0\n",
       "860051  1546203600  3022610     2.0  0.0\n",
       "\n",
       "[831653 rows x 4 columns]"
      ]
     },
     "execution_count": 20,
     "metadata": {},
     "output_type": "execute_result"
    }
   ],
   "source": [
    "X[f_other]"
   ]
  },
  {
   "cell_type": "markdown",
   "id": "528cbf0a",
   "metadata": {},
   "source": [
    "Из buy_time сгенерируем остальные фичи. id удалим. Остальные оставим без изменений. Также удалим константные колонки"
   ]
  },
  {
   "cell_type": "code",
   "execution_count": 21,
   "id": "2c75accf",
   "metadata": {},
   "outputs": [],
   "source": [
    "#X['buy_time'] = pd.to_datetime(X['buy_time'],unit='s')"
   ]
  },
  {
   "cell_type": "code",
   "execution_count": 22,
   "id": "fd23c9fd",
   "metadata": {},
   "outputs": [],
   "source": [
    "X.drop(columns=list(f_const)+['id'], axis=1, inplace=True)"
   ]
  },
  {
   "cell_type": "code",
   "execution_count": 23,
   "id": "d7d492cb",
   "metadata": {},
   "outputs": [
    {
     "data": {
      "text/html": [
       "<div>\n",
       "<style scoped>\n",
       "    .dataframe tbody tr th:only-of-type {\n",
       "        vertical-align: middle;\n",
       "    }\n",
       "\n",
       "    .dataframe tbody tr th {\n",
       "        vertical-align: top;\n",
       "    }\n",
       "\n",
       "    .dataframe thead th {\n",
       "        text-align: right;\n",
       "    }\n",
       "</style>\n",
       "<table border=\"1\" class=\"dataframe\">\n",
       "  <thead>\n",
       "    <tr style=\"text-align: right;\">\n",
       "      <th></th>\n",
       "      <th>vas_id</th>\n",
       "      <th>buy_time</th>\n",
       "      <th>0</th>\n",
       "      <th>1</th>\n",
       "      <th>2</th>\n",
       "      <th>3</th>\n",
       "      <th>4</th>\n",
       "      <th>5</th>\n",
       "      <th>6</th>\n",
       "      <th>7</th>\n",
       "      <th>...</th>\n",
       "      <th>243</th>\n",
       "      <th>244</th>\n",
       "      <th>245</th>\n",
       "      <th>246</th>\n",
       "      <th>247</th>\n",
       "      <th>248</th>\n",
       "      <th>249</th>\n",
       "      <th>250</th>\n",
       "      <th>251</th>\n",
       "      <th>252</th>\n",
       "    </tr>\n",
       "  </thead>\n",
       "  <tbody>\n",
       "    <tr>\n",
       "      <th>0</th>\n",
       "      <td>8.0</td>\n",
       "      <td>1537131600</td>\n",
       "      <td>-31.559971</td>\n",
       "      <td>327.360888</td>\n",
       "      <td>-45.500786</td>\n",
       "      <td>274.753202</td>\n",
       "      <td>-50.918246</td>\n",
       "      <td>253.64821</td>\n",
       "      <td>49.15382</td>\n",
       "      <td>195.883903</td>\n",
       "      <td>...</td>\n",
       "      <td>-845.373846</td>\n",
       "      <td>-613.770792</td>\n",
       "      <td>-20.996269</td>\n",
       "      <td>-37.630448</td>\n",
       "      <td>-28.747724</td>\n",
       "      <td>4.167111</td>\n",
       "      <td>7.305572</td>\n",
       "      <td>-12.175933</td>\n",
       "      <td>21.54386</td>\n",
       "      <td>0.0</td>\n",
       "    </tr>\n",
       "    <tr>\n",
       "      <th>1</th>\n",
       "      <td>4.0</td>\n",
       "      <td>1531688400</td>\n",
       "      <td>547.270029</td>\n",
       "      <td>238.430888</td>\n",
       "      <td>533.329214</td>\n",
       "      <td>274.803202</td>\n",
       "      <td>527.911754</td>\n",
       "      <td>253.69821</td>\n",
       "      <td>-16.08618</td>\n",
       "      <td>-65.076097</td>\n",
       "      <td>...</td>\n",
       "      <td>-972.373846</td>\n",
       "      <td>-613.770792</td>\n",
       "      <td>-25.996269</td>\n",
       "      <td>-19.630448</td>\n",
       "      <td>-278.747724</td>\n",
       "      <td>-24.832889</td>\n",
       "      <td>-0.694428</td>\n",
       "      <td>-11.175933</td>\n",
       "      <td>-0.45614</td>\n",
       "      <td>0.0</td>\n",
       "    </tr>\n",
       "  </tbody>\n",
       "</table>\n",
       "<p>2 rows × 250 columns</p>\n",
       "</div>"
      ],
      "text/plain": [
       "   vas_id    buy_time           0           1           2           3  \\\n",
       "0     8.0  1537131600  -31.559971  327.360888  -45.500786  274.753202   \n",
       "1     4.0  1531688400  547.270029  238.430888  533.329214  274.803202   \n",
       "\n",
       "            4          5         6           7  ...         243         244  \\\n",
       "0  -50.918246  253.64821  49.15382  195.883903  ... -845.373846 -613.770792   \n",
       "1  527.911754  253.69821 -16.08618  -65.076097  ... -972.373846 -613.770792   \n",
       "\n",
       "         245        246         247        248       249        250       251  \\\n",
       "0 -20.996269 -37.630448  -28.747724   4.167111  7.305572 -12.175933  21.54386   \n",
       "1 -25.996269 -19.630448 -278.747724 -24.832889 -0.694428 -11.175933  -0.45614   \n",
       "\n",
       "   252  \n",
       "0  0.0  \n",
       "1  0.0  \n",
       "\n",
       "[2 rows x 250 columns]"
      ]
     },
     "execution_count": 23,
     "metadata": {},
     "output_type": "execute_result"
    }
   ],
   "source": [
    "X.head(2)"
   ]
  },
  {
   "cell_type": "code",
   "execution_count": 24,
   "id": "c1e3d8cd",
   "metadata": {},
   "outputs": [
    {
     "name": "stdout",
     "output_type": "stream",
     "text": [
      "Количество категориальных признаков: 29\n"
     ]
    }
   ],
   "source": [
    "f_categorical = set(X_nunique.loc[f_numeric][X_nunique.loc[f_numeric] <= 10].index.tolist())\n",
    "f_categorical = list(f_categorical)\n",
    "print(f'Количество категориальных признаков: {len(f_categorical)}')"
   ]
  },
  {
   "cell_type": "code",
   "execution_count": 25,
   "id": "80463a68",
   "metadata": {},
   "outputs": [],
   "source": [
    "X[f_categorical]=X[f_categorical].astype('category')\n",
    "X = pd.get_dummies(X, drop_first=False)"
   ]
  },
  {
   "cell_type": "markdown",
   "id": "1f1b485f",
   "metadata": {},
   "source": [
    "## Baseline <a id='baseline'></a>\n",
    "[В начало](#start)"
   ]
  },
  {
   "cell_type": "markdown",
   "id": "14152bc0",
   "metadata": {},
   "source": [
    "- В качестве бейзлайна будет использоваться логистическая регрессия с l2 регуляризацией.\n",
    "- PCA 50 \n",
    "- В качестве solver выбран saga (т.к. solver поумолчанию выдаст ошибку)\n",
    "- В sklearn pipeline нельзя использовать SMOTE, данный pipline загрузим из imblearn"
   ]
  },
  {
   "cell_type": "code",
   "execution_count": 26,
   "id": "b184c683",
   "metadata": {},
   "outputs": [
    {
     "name": "stdout",
     "output_type": "stream",
     "text": [
      "Train\n",
      "0.0    0.92767\n",
      "1.0    0.07233\n",
      "Name: target, dtype: float64\n",
      "\n",
      "Test\n",
      "0.0    0.927513\n",
      "1.0    0.072487\n",
      "Name: target, dtype: float64\n"
     ]
    }
   ],
   "source": [
    "train_idx, test_idx = train_test_split(X.index, test_size=0.25, random_state=RANDOM_STATE)\n",
    "\n",
    "y_train, y_test = y.loc[train_idx], y.loc[test_idx]\n",
    "X_train, X_test = X.loc[train_idx], X.loc[test_idx]\n",
    "\n",
    "print(\"Train\")\n",
    "print(y.loc[train_idx].value_counts()/train_idx.shape[0])\n",
    "print()\n",
    "print(\"Test\")\n",
    "print(y.loc[test_idx].value_counts()/test_idx.shape[0])"
   ]
  },
  {
   "cell_type": "code",
   "execution_count": 27,
   "id": "e8aa6d42",
   "metadata": {},
   "outputs": [],
   "source": [
    "del X, y"
   ]
  },
  {
   "cell_type": "code",
   "execution_count": 28,
   "id": "3c311306",
   "metadata": {},
   "outputs": [],
   "source": [
    "smote = SMOTE(sampling_strategy='auto', n_jobs=-1)"
   ]
  },
  {
   "cell_type": "code",
   "execution_count": 29,
   "id": "aa63fa56",
   "metadata": {},
   "outputs": [],
   "source": [
    "step_scaler = ('scaler', MinMaxScaler())\n",
    "step_pca = ('pca', PCA(n_components=50))\n",
    "step_smote = ('smote', smote)\n",
    "step_log_reg = ('log_reg', LogisticRegression(random_state=RANDOM_STATE, penalty='l2', solver='saga'))"
   ]
  },
  {
   "cell_type": "code",
   "execution_count": 30,
   "id": "ca42aec2",
   "metadata": {},
   "outputs": [],
   "source": [
    "baseline_pipeline = imb_Pipeline([\n",
    "    step_scaler,\n",
    "    step_pca,\n",
    "    step_smote,\n",
    "    step_log_reg\n",
    "], verbose=True)"
   ]
  },
  {
   "cell_type": "code",
   "execution_count": 36,
   "id": "d2aaca13",
   "metadata": {},
   "outputs": [],
   "source": [
    "kfold_cv = KFold(n_splits=3, shuffle=True, random_state=RANDOM_STATE)\n",
    "\n",
    "def run_cv(estimator, cv, X, y, scoring='f1_macro', model_name=\"\"):\n",
    "    cv_res = cross_validate(estimator, X, y, cv=cv, scoring=scoring, n_jobs=-1)\n",
    "    \n",
    "    print(\"%s: %s = %0.2f (+/- %0.2f)\" % (model_name,\n",
    "                                         scoring,\n",
    "                                         cv_res['test_score'].mean(),\n",
    "                                         cv_res['test_score'].std() * 2))"
   ]
  },
  {
   "cell_type": "code",
   "execution_count": 37,
   "id": "01a0dbff",
   "metadata": {},
   "outputs": [
    {
     "name": "stdout",
     "output_type": "stream",
     "text": [
      "Baseline: f1_macro = 0.57 (+/- 0.00)\n"
     ]
    }
   ],
   "source": [
    "run_cv(baseline_pipeline, kfold_cv, X_train, y_train, model_name=\"Baseline\");"
   ]
  },
  {
   "cell_type": "code",
   "execution_count": 38,
   "id": "7c10ba6e",
   "metadata": {},
   "outputs": [
    {
     "name": "stdout",
     "output_type": "stream",
     "text": [
      "[Pipeline] ............ (step 1 of 4) Processing scaler, total=   2.4s\n",
      "[Pipeline] ............... (step 2 of 4) Processing pca, total=  14.5s\n",
      "[Pipeline] ............. (step 3 of 4) Processing smote, total=  46.6s\n",
      "[Pipeline] ........... (step 4 of 4) Processing log_reg, total=  20.3s\n"
     ]
    }
   ],
   "source": [
    "baseline_pipeline.fit(X_train, y_train)\n",
    "\n",
    "bl_y_pred = baseline_pipeline.predict_proba(X_test)[:,1]"
   ]
  },
  {
   "cell_type": "code",
   "execution_count": 39,
   "id": "47874964",
   "metadata": {},
   "outputs": [
    {
     "data": {
      "image/png": "[encoded data removed]",
      "text/plain": [
       "<Figure size 432x288 with 1 Axes>"
      ]
     },
     "metadata": {
      "needs_background": "light"
     },
     "output_type": "display_data"
    }
   ],
   "source": [
    "plt.title(\"Baseline: распределение предсказаний модели\")\n",
    "plt.hist(bl_y_pred[~y_test.astype(bool)], bins=100, color='r', alpha=0.7);\n",
    "plt.hist(bl_y_pred[y_test.astype(bool)], bins=100, color='b', alpha=0.7);"
   ]
  }
 ],
 "metadata": {
  "kernelspec": {
   "display_name": "Python 3",
   "language": "python",
   "name": "python3"
  },
  "language_info": {
   "codemirror_mode": {
    "name": "ipython",
    "version": 3
   },
   "file_extension": ".py",
   "mimetype": "text/x-python",
   "name": "python",
   "nbconvert_exporter": "python",
   "pygments_lexer": "ipython3",
   "version": "3.8.8"
  }
 },
 "nbformat": 4,
 "nbformat_minor": 5
}
